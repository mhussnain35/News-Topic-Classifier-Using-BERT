{
  "cells": [
    {
      "cell_type": "markdown",
      "metadata": {},
      "source": [
        "# Task 1 \u2014 News Topic Classifier Using BERT (AG News)\n",
        "\n",
        "**Objective:** Fine-tune `bert-base-uncased` to classify news headlines into 4 categories using the AG News dataset.\n",
        "\n",
        "This notebook includes: dataset loading, preprocessing, model fine-tuning (Trainer), evaluation (accuracy & macro F1), and a short inference demo.\n"
      ]
    },
    {
      "cell_type": "markdown",
      "metadata": {},
      "source": [
        "## 1) Install & Imports (run in Colab / local environment)\n"
      ]
    },
    {
      "cell_type": "code",
      "metadata": {},
      "source": [
        "# Uncomment and run when required\n",
        "# !pip install -q transformers datasets evaluate accelerate sentencepiece\n",
        "import os\n",
        "import numpy as np\n",
        "import pandas as pd\n",
        "from datasets import load_dataset\n",
        "from transformers import AutoTokenizer, AutoModelForSequenceClassification, TrainingArguments, Trainer\n",
        "from sklearn.metrics import accuracy_score, f1_score\n",
        "import evaluate\n"
      ],
      "execution_count": null,
      "outputs": []
    },
    {
      "cell_type": "markdown",
      "metadata": {},
      "source": [
        "## 2) Load & Inspect Dataset\n"
      ]
    },
    {
      "cell_type": "code",
      "metadata": {},
      "source": [
        "dataset = load_dataset('ag_news')\n",
        "print(dataset)\n",
        "dataset['train'][0]\n"
      ],
      "execution_count": null,
      "outputs": []
    },
    {
      "cell_type": "markdown",
      "metadata": {},
      "source": [
        "## 3) Tokenization & Preprocessing\n"
      ]
    },
    {
      "cell_type": "code",
      "metadata": {},
      "source": [
        "model_name = 'bert-base-uncased'\n",
        "tokenizer = AutoTokenizer.from_pretrained(model_name)\n",
        "def tokenize_fn(batch):\n",
        "    return tokenizer(batch['text'], truncation=True, padding='max_length', max_length=128)\n",
        "tokenized = dataset.map(tokenize_fn, batched=True)\n",
        "tokenized = tokenized.rename_column('label','labels')\n",
        "tokenized.set_format(type='torch', columns=['input_ids','attention_mask','labels'])\n",
        "tokenized\n"
      ],
      "execution_count": null,
      "outputs": []
    },
    {
      "cell_type": "markdown",
      "metadata": {},
      "source": [
        "## 4) Fine-tune with Trainer (small demo run)\n"
      ]
    },
    {
      "cell_type": "code",
      "metadata": {},
      "source": [
        "model = AutoModelForSequenceClassification.from_pretrained(model_name, num_labels=4)\n",
        "def compute_metrics(eval_pred):\n",
        "    logits, labels = eval_pred\n",
        "    preds = np.argmax(logits, axis=-1)\n",
        "    return {\n",
        "        'accuracy': accuracy_score(labels, preds),\n",
        "        'f1_macro': f1_score(labels, preds, average='macro')\n",
        "    }\n",
        "training_args = TrainingArguments(\n",
        "    output_dir='./outputs/bert_agnews',\n",
        "    evaluation_strategy='epoch',\n",
        "    per_device_train_batch_size=8,\n",
        "    per_device_eval_batch_size=32,\n",
        "    num_train_epochs=1,\n",
        "    save_total_limit=1,\n",
        "    learning_rate=2e-5,\n",
        "    logging_steps=100\n",
        ")\n",
        "trainer = Trainer(\n",
        "    model=model,\n",
        "    args=training_args,\n",
        "    train_dataset=tokenized['train'],\n",
        "    eval_dataset=tokenized['test'],\n",
        "    tokenizer=tokenizer,\n",
        "    compute_metrics=compute_metrics\n",
        ")\n",
        "# NOTE: Training will run if you execute this cell in an environment with resources.\n",
        "# trainer.train()\n",
        "# metrics = trainer.evaluate()\n",
        "# print(metrics)\n"
      ],
      "execution_count": null,
      "outputs": []
    },
    {
      "cell_type": "markdown",
      "metadata": {},
      "source": [
        "## 5) Inference demo\n"
      ]
    },
    {
      "cell_type": "code",
      "metadata": {},
      "source": [
        "from transformers import TextClassificationPipeline\n",
        "pipe = TextClassificationPipeline(model=model, tokenizer=tokenizer, return_all_scores=True)\n",
        "example = 'NASA announces new telescope for deep space exploration'\n",
        "print(pipe(example))\n"
      ],
      "execution_count": null,
      "outputs": []
    },
    {
      "cell_type": "markdown",
      "metadata": {},
      "source": [
        "## 6) Summary & Next Steps\n\n- Train for more epochs on GPU.\n- Save model directory and use Streamlit app for demo.\n- Report accuracy and macro F1 after full training.\n"
      ]
    }
  ],
  "metadata": {
    "kernelspec": {
      "display_name": "Python 3",
      "language": "python",
      "name": "python3"
    },
    "language_info": {
      "name": "python",
      "version": "3.x"
    }
  },
  "nbformat": 4,
  "nbformat_minor": 5
}